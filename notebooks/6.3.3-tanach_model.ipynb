{
 "cells": [
  {
   "cell_type": "markdown",
   "metadata": {},
   "source": [
    "<td>\n",
    "<a href=\"https://colab.research.google.com/github/raoulg/MADS-DAV/blob/main/notebooks/6.3.3-tanach_model.ipynb\" target=\"_parent\"><img src=\"https://colab.research.google.com/assets/colab-badge.svg\" alt=\"Open In Colab\"/></a>\n",
    "</td>"
   ]
  },
  {
   "cell_type": "code",
   "execution_count": null,
   "metadata": {},
   "outputs": [],
   "source": [
    "import pandas as pd\n",
    "from pathlib import Path\n",
    "\n",
    "datadir = Path(\"../data/processed\")\n",
    "datafile = datadir / Path(\"tanach.parquet\")\n",
    "df = pd.read_parquet(datafile)\n",
    "df.head()"
   ]
  },
  {
   "cell_type": "markdown",
   "metadata": {},
   "source": [
    "We start with loading the preprocessed text."
   ]
  },
  {
   "cell_type": "code",
   "execution_count": null,
   "metadata": {},
   "outputs": [],
   "source": [
    "result = (\n",
    "    df.groupby(\"book\")[\"text\"]\n",
    "    .apply(lambda x: \"\".join(x))\n",
    "    .str.len()\n",
    "    .reset_index(name=\"char_count\")\n",
    ")\n",
    "result"
   ]
  },
  {
   "cell_type": "markdown",
   "metadata": {},
   "source": [
    "Let's chunk all text into chunks of 5000 characters."
   ]
  },
  {
   "cell_type": "code",
   "execution_count": null,
   "metadata": {},
   "outputs": [],
   "source": [
    "def split_into_chunks(text, chunk_size=5000):\n",
    "    return [\n",
    "        text[i : i + chunk_size]\n",
    "        for i in range(0, len(text), chunk_size)\n",
    "        if len(text[i : i + chunk_size]) == chunk_size\n",
    "    ]\n",
    "\n",
    "\n",
    "# Group by \"book\", join \"text\", then split into chunks\n",
    "# another approach (maybe better?) could be to split on spaces and then chunk into k words instead of characters\n",
    "result = (\n",
    "    df.groupby(\"book\")[\"text\"]\n",
    "    .apply(lambda x: \"\".join(x))\n",
    "    .apply(lambda x: split_into_chunks(x))\n",
    "    .reset_index(name=\"chunks\")\n",
    ")\n",
    "result_exploded = result.explode(\"chunks\").reset_index(drop=True)\n",
    "result_exploded"
   ]
  },
  {
   "cell_type": "code",
   "execution_count": null,
   "metadata": {},
   "outputs": [],
   "source": [
    "result_exploded.dropna(axis=0, inplace=True)"
   ]
  },
  {
   "cell_type": "markdown",
   "metadata": {},
   "source": [
    "We will take a subset of the texts."
   ]
  },
  {
   "cell_type": "code",
   "execution_count": null,
   "metadata": {},
   "outputs": [],
   "source": [
    "books = [\"Genesis\", \"Exodus\", \"Leviticus\", \"Numbers\", \"Deuteronomy\", \"Joshua\"]\n",
    "\n",
    "text = result_exploded[result_exploded[\"book\"].isin(books)]\n",
    "text"
   ]
  },
  {
   "cell_type": "markdown",
   "metadata": {},
   "source": [
    "And now we can apply our model to the text."
   ]
  },
  {
   "cell_type": "code",
   "execution_count": null,
   "metadata": {},
   "outputs": [],
   "source": [
    "from wa_analyzer.model import TextClustering\n",
    "\n",
    "clustering = TextClustering()\n",
    "labels = text[\"book\"]\n",
    "\n",
    "X = clustering(text[\"chunks\"], k=0, batch=False, method=\"PCA\", labels=labels)"
   ]
  },
  {
   "cell_type": "code",
   "execution_count": null,
   "metadata": {},
   "outputs": [],
   "source": []
  }
 ],
 "metadata": {
  "kernelspec": {
   "display_name": ".venv",
   "language": "python",
   "name": "python3"
  },
  "language_info": {
   "codemirror_mode": {
    "name": "ipython",
    "version": 3
   },
   "file_extension": ".py",
   "mimetype": "text/x-python",
   "name": "python",
   "nbconvert_exporter": "python",
   "pygments_lexer": "ipython3",
   "version": "3.11.9"
  }
 },
 "nbformat": 4,
 "nbformat_minor": 2
}
