{
 "cells": [
  {
   "cell_type": "markdown",
   "metadata": {},
   "source": [
    "# Demo for network analysis"
   ]
  },
  {
   "cell_type": "code",
   "execution_count": null,
   "metadata": {},
   "outputs": [],
   "source": [
    "import tomllib\n",
    "from pathlib import Path\n",
    "\n",
    "configfile = Path(\"../config.toml\")\n",
    "with open(configfile, \"rb\") as f:\n",
    "    tomlconfig = tomllib.load(f)\n",
    "tomlconfig\n",
    "# load the toml for the current file\n"
   ]
  },
  {
   "cell_type": "markdown",
   "metadata": {},
   "source": [
    "The `NetworkAnalysis` tool will take in a `pd.DataFrame` and will calculate a social graph. The authors are the nodes, the edges (lines between nodes) are defined as a message within a specified threshold in seconds. "
   ]
  },
  {
   "cell_type": "code",
   "execution_count": null,
   "metadata": {},
   "outputs": [],
   "source": [
    "from wa_analyzer.network_analysis import Config, NetworkAnalysis\n",
    "from dataclasses import dataclass\n",
    "\n",
    "datafile = Path(\"..\") / tomlconfig[\"processed\"] / tomlconfig[\"current\"]\n",
    "config  = Config(\n",
    "    time_col = \"timestamp\",\n",
    "    node_col = \"author\",\n",
    "    seconds = 600,\n",
    "    datafile=datafile,\n",
    ")"
   ]
  },
  {
   "cell_type": "markdown",
   "metadata": {},
   "source": [
    "We can modify how many days in the past we want to look at with `cutoff_days`, and the `node_threshold` will filter out nodes with less than that many edges."
   ]
  },
  {
   "cell_type": "code",
   "execution_count": null,
   "metadata": {},
   "outputs": [],
   "source": [
    "na = NetworkAnalysis(config)\n",
    "na.process(\"Network Analysis\", layout=\"Spring Layout\", cutoff_days=None, node_threshold=1, node_scale=2.0)"
   ]
  },
  {
   "cell_type": "markdown",
   "metadata": {},
   "source": [
    "The `.windows` will show the evolution over time. The `window_days` gives the size of the window, and `overlap_days` the number of days each window can overlap."
   ]
  },
  {
   "cell_type": "code",
   "execution_count": null,
   "metadata": {},
   "outputs": [],
   "source": [
    "fig = na.windows(cutoff_days=100, edge_seconds=600, window_days=30, overlap_days=10, node_threshold=1)\n",
    "fig.show()"
   ]
  },
  {
   "cell_type": "code",
   "execution_count": null,
   "metadata": {},
   "outputs": [],
   "source": []
  }
 ],
 "metadata": {
  "kernelspec": {
   "display_name": ".venv",
   "language": "python",
   "name": "python3"
  },
  "language_info": {
   "codemirror_mode": {
    "name": "ipython",
    "version": 3
   },
   "file_extension": ".py",
   "mimetype": "text/x-python",
   "name": "python",
   "nbconvert_exporter": "python",
   "pygments_lexer": "ipython3",
   "version": "3.12.9"
  }
 },
 "nbformat": 4,
 "nbformat_minor": 2
}
