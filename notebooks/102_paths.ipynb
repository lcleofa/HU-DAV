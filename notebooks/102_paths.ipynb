{
 "cells": [
  {
   "cell_type": "markdown",
   "metadata": {},
   "source": [
    "# Introductie tot paden in Python en daarbuiten"
   ]
  },
  {
   "cell_type": "markdown",
   "metadata": {},
   "source": [
    "<b>De working directory (werkmap)</b> is de map op je computer waarin je werkt vanuit een programma, script of terminal. Het is de standaardlocatie waar je bestanden opent, opslaat of aanmaakt, tenzij je een andere map opgeeft.\n",
    "\n",
    "In Python bijvoorbeeld, als je een bestand wilt openen zonder een volledige padnaam op te geven, zal Python dat bestand in de huidige working directory (directory = een map) zoeken.\n"
   ]
  },
  {
   "cell_type": "code",
   "execution_count": null,
   "metadata": {},
   "outputs": [],
   "source": [
    "import os\n",
    "\n",
    "print(os.getcwd())  # returnt de working directory"
   ]
  },
  {
   "cell_type": "code",
   "execution_count": null,
   "metadata": {},
   "outputs": [],
   "source": [
    "print(\n",
    "    os.listdir(\".\")\n",
    ")  # returnt een lijst van alle files in de directory, . staat voor current working directory wat de standaard is voor os.listdir()\n",
    "\n",
    "# checkt of het bestand bestaat, het bestand bestaat niet en we zien het dan ook niet in de lijst van os.listdir() staan.\n",
    "file = \"pyproject.toml\"\n",
    "print(f\"{file} exists: {os.path.exists(file)}\")"
   ]
  },
  {
   "cell_type": "markdown",
   "metadata": {},
   "source": [
    "De .. wordt gebruikt om de parent directory aan te duiden: de directory / map boven de huidige directory.\n",
    "\n",
    "Met het os.chdir command (change directory) kan je wisselen van working directory in Python. Het is hetzelfde als cd command in Linux"
   ]
  },
  {
   "cell_type": "code",
   "execution_count": null,
   "metadata": {},
   "outputs": [],
   "source": [
    "os.chdir(\"..\")\n",
    "print(os.getcwd())"
   ]
  },
  {
   "cell_type": "code",
   "execution_count": null,
   "metadata": {},
   "outputs": [],
   "source": [
    "print(os.listdir())  # we zien nu andere bestanden staan\n",
    "\n",
    "# nu we in een folder hoger zitten zien we ook dat het bestand pyproject.toml staan\n",
    "file = \"pyproject.toml\"\n",
    "print(f\"{file} exists: {os.path.exists(file)}\")"
   ]
  },
  {
   "cell_type": "markdown",
   "metadata": {},
   "source": [
    "Voorheen werd vaak de os.path module gebruikt om te werken met paden in Python. Tegenwoordig wordt er vaker gekozen voor de pathlib module. In tegenstelling tot de traditionele os.path module, waarmee je meestal werkt met strings, biedt pathlib een veel intuïtiever en krachtiger systeem door gebruik te maken van objecten die paden vertegenwoordigen."
   ]
  },
  {
   "cell_type": "code",
   "execution_count": null,
   "metadata": {},
   "outputs": [],
   "source": [
    "## Met de Pathlib module kunnen paden op verschillende manieren geschreven worden en blijven hetzelfde\n",
    "## Dit is vooral handig als je code schrijft voor zowel Linux en Windows\n",
    "\n",
    "from pathlib import Path\n",
    "\n",
    "notebooks_dir = Path(\"notebooks\")\n",
    "\n",
    "p1 = Path(\"notebooks/01-cleaning.ipynb\")\n",
    "p2 = Path(\"notebooks\") / \"01-cleaning.ipynb\"\n",
    "p3 = notebooks_dir / \"01-cleaning.ipynb\"\n",
    "p4 = Path(\"notebooks//01-cleaning.ipynb\")\n",
    "p5 = Path(\"notebooks\\\\01-cleaning.ipynb\")\n",
    "p6 = Path(\"notebooks\\01-cleaning.ipynb\")  # the only one that doesn't work\n",
    "\n",
    "print(p1)\n",
    "print(p2)\n",
    "print(p3)\n",
    "print(p4)\n",
    "print(p5)\n",
    "print(p6)  # the only one that doesn't work"
   ]
  },
  {
   "cell_type": "markdown",
   "metadata": {},
   "source": [
    "Met de pathlib module is het makkelijk om verschillende eigenschappen van het path (in dit geval een bestand) op te halen. \n",
    "Let wel op dat bepaalde dingen niet werken met directories en wel met bestanden, en andersom.\n"
   ]
  },
  {
   "cell_type": "code",
   "execution_count": null,
   "metadata": {},
   "outputs": [],
   "source": [
    "# Voorbeelden\n",
    "print(f\"Name of the file: {p1.name}\")\n",
    "print(f\"stem: {p1.stem}\")\n",
    "print(f\"The suffix (file extension): {p1.suffix}\")\n",
    "print(f\"Parent of the file (the directory it is in): {p1.parent}\")"
   ]
  },
  {
   "cell_type": "code",
   "execution_count": null,
   "metadata": {},
   "outputs": [],
   "source": [
    "print(f\"Does exists: {p1.exists()}\")\n",
    "print(f\"Is a file: {p1.is_file()}\")\n",
    "print(\n",
    "    f\"Size (bytes): {p1.stat().st_size}\"\n",
    ")  # returnt de grootte van het bestand in bytes"
   ]
  },
  {
   "cell_type": "code",
   "execution_count": null,
   "metadata": {},
   "outputs": [],
   "source": [
    "# We zetten de working directory weer terug naar de notebooks folder\n",
    "os.chdir(\"notebooks\")\n",
    "print(os.getcwd())"
   ]
  },
  {
   "cell_type": "markdown",
   "metadata": {},
   "source": [
    "Het mkdir command wordt gebruikt om een nieuwe directory aan te maken. De pathlib module laat je ook specificeren of er een error getoond moet worden als de directory al bestaat."
   ]
  },
  {
   "cell_type": "code",
   "execution_count": null,
   "metadata": {},
   "outputs": [],
   "source": [
    "new_dir = notebooks_dir / \"new_dir\"\n",
    "new_dir"
   ]
  },
  {
   "cell_type": "code",
   "execution_count": null,
   "metadata": {},
   "outputs": [],
   "source": [
    "new_dir = notebooks_dir / \"new_dir\"\n",
    "print(notebooks_dir.exists())\n",
    "new_dir.mkdir(parents=True, exist_ok=True)\n",
    "print(f\"Does exist: {notebooks_dir.exists()}\")\n",
    "print(f\"Is a file: {new_dir.is_file()}, is a directory: {new_dir.is_dir()}\")"
   ]
  },
  {
   "cell_type": "markdown",
   "metadata": {},
   "source": [
    "We gebruiken het rmdir (remove directory) command om de directory ook weer te verwijderen"
   ]
  },
  {
   "cell_type": "code",
   "execution_count": null,
   "metadata": {},
   "outputs": [],
   "source": [
    "new_dir.rmdir()"
   ]
  },
  {
   "cell_type": "markdown",
   "metadata": {},
   "source": [
    "# De path variable\n",
    "\n",
    "De path variable is een omgevings variable die wordt gebruikt voor het zoeken naar:\n",
    "1. Uitvoerbare programma's zodat ze in de terminal gebruikt kunnen worden (vandaar dat je python <i> script_name.py </i> in je terminal kan gebruiken)\n",
    "2. Python packages & modules\n",
    "3. Virtual Environments passen de path variable aan zodat je system de python uit je .venv folder gebruikt"
   ]
  },
  {
   "cell_type": "markdown",
   "metadata": {},
   "source": [
    "Omdat je systeem dus alleen zoekt naar modules op de plek van path EN je huidige working directory kan het soms pakketten in een andere map niet vinden. Je kan ervoor zorgen dat dit wel het geval is door de nieuwe directory aan path toe te voegen."
   ]
  },
  {
   "cell_type": "code",
   "execution_count": null,
   "metadata": {},
   "outputs": [],
   "source": []
  },
  {
   "cell_type": "code",
   "execution_count": null,
   "metadata": {},
   "outputs": [],
   "source": [
    "import sys\n",
    "\n",
    "sys.path.append(\"../src/\")"
   ]
  },
  {
   "cell_type": "code",
   "execution_count": null,
   "metadata": {},
   "outputs": [],
   "source": []
  }
 ],
 "metadata": {
  "kernelspec": {
   "display_name": "Python 3",
   "language": "python",
   "name": "python3"
  },
  "language_info": {
   "codemirror_mode": {
    "name": "ipython",
    "version": 3
   },
   "file_extension": ".py",
   "mimetype": "text/x-python",
   "name": "python",
   "nbconvert_exporter": "python",
   "pygments_lexer": "ipython3",
   "version": "3.11.0"
  }
 },
 "nbformat": 4,
 "nbformat_minor": 2
}
