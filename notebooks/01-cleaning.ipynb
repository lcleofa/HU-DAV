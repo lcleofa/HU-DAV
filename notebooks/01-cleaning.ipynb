{
 "cells": [
  {
   "cell_type": "code",
   "execution_count": null,
   "metadata": {},
   "outputs": [],
   "source": [
    "from pathlib import Path\n",
    "from loguru import logger\n",
    "import pandas as pd\n",
    "from datetime import datetime"
   ]
  },
  {
   "cell_type": "markdown",
   "metadata": {},
   "source": [
    "Read in the file"
   ]
  },
  {
   "cell_type": "code",
   "execution_count": null,
   "metadata": {},
   "outputs": [],
   "source": [
    "import tomllib\n",
    "\n",
    "configfile = Path(\"../config.toml\").resolve()\n",
    "with configfile.open(\"rb\") as f:\n",
    "    config = tomllib.load(f)\n",
    "processed = Path(\"../data/processed\")\n",
    "datafile = processed / config[\"inputpath\"]\n",
    "if not datafile.exists():\n",
    "    logger.warning(\n",
    "        f\"{datafile} does not exist. Maybe first run src/preprocess.py, or check the timestamp!\"\n",
    "    )"
   ]
  },
  {
   "cell_type": "code",
   "execution_count": null,
   "metadata": {},
   "outputs": [],
   "source": [
    "df = pd.read_csv(datafile, parse_dates=[\"timestamp\"])\n",
    "df.head()"
   ]
  },
  {
   "cell_type": "markdown",
   "metadata": {},
   "source": [
    "Check the datatypes. Note the timestamp type!"
   ]
  },
  {
   "cell_type": "code",
   "execution_count": null,
   "metadata": {},
   "outputs": [],
   "source": [
    "df.dtypes"
   ]
  },
  {
   "cell_type": "markdown",
   "metadata": {},
   "source": [
    "Sometimes, author names have a tilde in front of them, allong with some unicode. Let's clean that."
   ]
  },
  {
   "cell_type": "code",
   "execution_count": null,
   "metadata": {},
   "outputs": [],
   "source": [
    "import re\n",
    "\n",
    "clean_tilde = r\"^~\\u202f\"\n",
    "df[\"author\"] = df[\"author\"].apply(lambda x: re.sub(clean_tilde, \"\", x))"
   ]
  },
  {
   "cell_type": "markdown",
   "metadata": {},
   "source": [
    "Let's check how many unique authors we have"
   ]
  },
  {
   "cell_type": "code",
   "execution_count": null,
   "metadata": {},
   "outputs": [],
   "source": [
    "len(df.author.unique())"
   ]
  },
  {
   "cell_type": "markdown",
   "metadata": {},
   "source": [
    "Let's make the authors anonymous"
   ]
  },
  {
   "cell_type": "code",
   "execution_count": null,
   "metadata": {},
   "outputs": [],
   "source": [
    "import json\n",
    "from wa_analyzer.humanhasher import humanize\n",
    "\n",
    "authors = df.author.unique()\n",
    "anon = {k: humanize(k) for k in authors}\n",
    "# we save a reference file so we can look up the original author names if we want to\n",
    "reference_file = processed / \"anon_reference.json\"\n",
    "\n",
    "with open(reference_file, \"w\") as f:\n",
    "    # invert the dictionary:\n",
    "    ref = {v: k for k, v in anon.items()}\n",
    "    # sort alphabetically:\n",
    "    ref_sorted = {k: ref[k] for k in sorted(ref.keys())}\n",
    "    # save as json:\n",
    "    json.dump(ref_sorted, f)\n",
    "\n",
    "\n",
    "if not len(anon) == len(authors):\n",
    "    raise ValueError(\"you lost some authors!\")"
   ]
  },
  {
   "cell_type": "code",
   "execution_count": null,
   "metadata": {},
   "outputs": [],
   "source": [
    "df[\"anon_author\"] = df.author.map(anon)\n",
    "df.head()"
   ]
  },
  {
   "cell_type": "markdown",
   "metadata": {},
   "source": [
    "We can now drop the original author column"
   ]
  },
  {
   "cell_type": "code",
   "execution_count": null,
   "metadata": {},
   "outputs": [],
   "source": [
    "df.drop(columns=[\"author\"], inplace=True)"
   ]
  },
  {
   "cell_type": "markdown",
   "metadata": {},
   "source": [
    "Check if it's gone"
   ]
  },
  {
   "cell_type": "code",
   "execution_count": null,
   "metadata": {},
   "outputs": [],
   "source": [
    "df.head()"
   ]
  },
  {
   "cell_type": "markdown",
   "metadata": {},
   "source": [
    "And let's rename the column"
   ]
  },
  {
   "cell_type": "code",
   "execution_count": null,
   "metadata": {},
   "outputs": [],
   "source": [
    "df.rename(columns={\"anon_author\": \"author\"}, inplace=True)"
   ]
  },
  {
   "cell_type": "code",
   "execution_count": null,
   "metadata": {},
   "outputs": [],
   "source": [
    "df.head()"
   ]
  },
  {
   "cell_type": "markdown",
   "metadata": {},
   "source": [
    "In my case, the first line is a header, saying messages are encrypted. Let's remove that. Your data might be different, so double check if you also want to remove the first line!"
   ]
  },
  {
   "cell_type": "code",
   "execution_count": null,
   "metadata": {},
   "outputs": [],
   "source": [
    "df = df.drop(index=[0])"
   ]
  },
  {
   "cell_type": "markdown",
   "metadata": {},
   "source": [
    "let's check:"
   ]
  },
  {
   "cell_type": "code",
   "execution_count": null,
   "metadata": {},
   "outputs": [],
   "source": [
    "df.head()"
   ]
  },
  {
   "cell_type": "markdown",
   "metadata": {},
   "source": [
    "Let's find emojis in the text and add that as a feature."
   ]
  },
  {
   "cell_type": "code",
   "execution_count": null,
   "metadata": {},
   "outputs": [],
   "source": [
    "emoji_pattern = re.compile(\n",
    "    \"[\"\n",
    "    \"\\U0001f600-\\U0001f64f\"  # emoticons\n",
    "    \"\\U0001f300-\\U0001f5ff\"  # symbols & pictographs\n",
    "    \"\\U0001f680-\\U0001f6ff\"  # transport & map symbols\n",
    "    \"\\U0001f1e0-\\U0001f1ff\"  # flags (iOS)\n",
    "    \"\\U00002702-\\U000027b0\"  # Dingbats\n",
    "    \"\\U000024c2-\\U0001f251\"\n",
    "    \"]+\",\n",
    "    flags=re.UNICODE,\n",
    ")\n",
    "\n",
    "\n",
    "def has_emoji(text):\n",
    "    return bool(emoji_pattern.search(text))\n",
    "\n",
    "\n",
    "df[\"has_emoji\"] = df[\"message\"].apply(has_emoji)"
   ]
  },
  {
   "cell_type": "markdown",
   "metadata": {},
   "source": [
    "Let's create a timestamp for a new, unique, filename."
   ]
  },
  {
   "cell_type": "code",
   "execution_count": null,
   "metadata": {},
   "outputs": [],
   "source": [
    "import pytz\n",
    "\n",
    "now = datetime.now(tz=pytz.timezone('Europe/Amsterdam')).strftime(\"%Y%m%d-%H%M%S\")\n",
    "now"
   ]
  },
  {
   "cell_type": "code",
   "execution_count": null,
   "metadata": {},
   "outputs": [],
   "source": [
    "output = processed / f\"whatsapp-{now}.csv\"\n",
    "output"
   ]
  },
  {
   "cell_type": "markdown",
   "metadata": {},
   "source": [
    "Let's save the file both as a csv and as a parquet file.\n",
    "Parquet has some advantages:\n",
    "- its about 100x faster to read and write\n",
    "- datatypes are preserved (eg the timestamp type). You will loose this in a csv file.\n",
    "- file size is much smaller\n",
    "\n",
    "The advantage of csv is that you can easily peak at the data in a text editor."
   ]
  },
  {
   "cell_type": "code",
   "execution_count": null,
   "metadata": {},
   "outputs": [],
   "source": [
    "df.to_csv(output, index=False)\n",
    "df.to_parquet(output.with_suffix(\".parq\"), index=False)"
   ]
  },
  {
   "cell_type": "markdown",
   "metadata": {},
   "source": [
    "Now, go to `config.toml` and change the name by \"current\" to the parquet file you just created.\n",
    "This makes it easier to use the same file everywhere, without the need to continuously retype the name if you change it."
   ]
  }
 ],
 "metadata": {
  "kernelspec": {
   "display_name": ".venv",
   "language": "python",
   "name": "python3"
  },
  "language_info": {
   "codemirror_mode": {
    "name": "ipython",
    "version": 3
   },
   "file_extension": ".py",
   "mimetype": "text/x-python",
   "name": "python",
   "nbconvert_exporter": "python",
   "pygments_lexer": "ipython3",
   "version": "3.12.8"
  }
 },
 "nbformat": 4,
 "nbformat_minor": 2
}
