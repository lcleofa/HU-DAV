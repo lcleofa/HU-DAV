{
 "cells": [
  {
   "cell_type": "markdown",
   "metadata": {},
   "source": [
    "<td>\n",
    "<a href=\"https://colab.research.google.com/github/raoulg/MADS-DAV/blob/main/notebooks/06.2-modelling.ipynb\" target=\"_parent\"><img src=\"https://colab.research.google.com/assets/colab-badge.svg\" alt=\"Open In Colab\"/></a>\n",
    "</td>"
   ]
  },
  {
   "cell_type": "code",
   "execution_count": 1,
   "metadata": {},
   "outputs": [],
   "source": [
    "import requests\n",
    "from pathlib import Path\n",
    "import pandas as pd\n",
    "import seaborn as sns\n",
    "from loguru import logger"
   ]
  },
  {
   "cell_type": "markdown",
   "metadata": {},
   "source": [
    "This notebook is an implementation of the approach described in this [essay](https://www.orphanalytics.com/en/news/whitepaper202012/OrphAnalyticsQAnon2020.pdf) and written about [here](https://www.prnewswire.com/news-releases/qanon-is-two-different-people-shows-machine-learning-analysis-from-orphanalytics-301192981.html).\n",
    "\n",
    "It analyzes the posts of QAnon, and concludes that the messages are probably written by two persons instead of one.\n",
    "\n",
    "From the last link:\n",
    ">  QAnon has spread conspiracy theories to an unprecedentedly large audience. Its thousands of online messages have popularized narratives such as the existence of a child-trafficking deep state. Recently, it inspired a series of violent attacks and was listed as a terrorist threat by the FBI. The Swiss company OrphAnalytics just published an analysis of all messages posted by Q. Its patented technology aims at identifying authors of written documents. It has found two individual signals within the corpus of Q messages. Its new study contributes to revealing the origins and the persons behind one of the most impactful conspiracy theories in recent times.\n",
    "\n",
    "We will replicate their analysis with \"patented technoloy\" with a simple sklearn approach."
   ]
  },
  {
   "cell_type": "code",
   "execution_count": 2,
   "metadata": {},
   "outputs": [
    {
     "name": "stderr",
     "output_type": "stream",
     "text": [
      "\u001b[32m2025-10-14 17:27:23.784\u001b[0m | \u001b[1mINFO    \u001b[0m | \u001b[36m__main__\u001b[0m:\u001b[36m<module>\u001b[0m:\u001b[36m13\u001b[0m - \u001b[1mQAnon data already downloaded at /Users/luiginocleofa/.cache/mads_datasets/qanon/posts.json\u001b[0m\n"
     ]
    }
   ],
   "source": [
    "datadir = Path.home() / \".cache/mads_datasets/qanon\"\n",
    "if not datadir.exists():\n",
    "    datadir.mkdir(parents=True)\n",
    "\n",
    "datafile = datadir / \"posts.json\"\n",
    "if not datafile.exists():\n",
    "    logger.info(\"Downloading QAnon data\")\n",
    "    url = \"https://raw.githubusercontent.com/jkingsman/JSON-QAnon/main/posts.json\"\n",
    "    response = requests.get(url, timeout=10)\n",
    "    with datafile.open(\"wb\") as f:\n",
    "        f.write(response.content)\n",
    "else:\n",
    "    logger.info(f\"QAnon data already downloaded at {datafile}\")"
   ]
  },
  {
   "cell_type": "markdown",
   "metadata": {},
   "source": [
    "On Linux and macOS, the default encoding is typically UTF-8.\n",
    "On Windows, the default encoding is not UTF-8 but rather a locale-specific encoding, often CP1252 or similar. Because, why not use your own proprietary encoding, just to be backwards compatible, even though the rest of the world uses something different?\n",
    "\n",
    "If you are running this code on a windows machine, you will need to specify the encoding as 'utf-8', like I did below:"
   ]
  },
  {
   "cell_type": "code",
   "execution_count": 3,
   "metadata": {},
   "outputs": [],
   "source": [
    "from pandas import json_normalize\n",
    "import json\n",
    "\n",
    "with datafile.open(encoding=\"utf-8\") as f:\n",
    "    df = json_normalize(json.load(f)[\"posts\"], sep=\"_\")"
   ]
  },
  {
   "cell_type": "code",
   "execution_count": 4,
   "metadata": {},
   "outputs": [
    {
     "data": {
      "text/plain": [
       "text                          object\n",
       "referenced_posts              object\n",
       "post_metadata_author          object\n",
       "post_metadata_source_board    object\n",
       "post_metadata_source_site     object\n",
       "post_metadata_time             int64\n",
       "post_metadata_id               int64\n",
       "post_metadata_author_id       object\n",
       "images                        object\n",
       "post_metadata_tripcode        object\n",
       "post_metadata_source_link     object\n",
       "dtype: object"
      ]
     },
     "execution_count": 4,
     "metadata": {},
     "output_type": "execute_result"
    }
   ],
   "source": [
    "df.dtypes"
   ]
  },
  {
   "cell_type": "markdown",
   "metadata": {},
   "source": [
    "## Clean up the timestamps\n",
    "\n",
    "The text describes they used the analysis from [this](https://www.businessinsider.com/every-qanon-message-q-drop-analyzed-2020-10?international=true&r=US&IR=T) businessinsider article to bin the timeseries.\n",
    "\n",
    "<img src=\"../img/Qanon.png\" width=450 height=400 />\n",
    "\n",
    "These dates are hardcoded in the bin_time method."
   ]
  },
  {
   "cell_type": "code",
   "execution_count": 5,
   "metadata": {},
   "outputs": [],
   "source": [
    "df[\"time\"] = df[\"post_metadata_time\"].apply(pd.to_datetime, unit=\"s\")"
   ]
  },
  {
   "cell_type": "markdown",
   "metadata": {},
   "source": [
    "📊 Why do this?\n",
    "\n",
    "This makes it easy to group or compare posts by different time periods — for example, to see if writing style or authorship changes over time."
   ]
  },
  {
   "cell_type": "code",
   "execution_count": 6,
   "metadata": {},
   "outputs": [],
   "source": [
    "from datetime import datetime\n",
    "\n",
    "\n",
    "def bin_time(time):\n",
    "    if time < datetime(2017, 12, 1):\n",
    "        return 0\n",
    "    elif time < datetime(2018, 1, 6):\n",
    "        return 1\n",
    "    elif time < datetime(2018, 8, 10):\n",
    "        return 2\n",
    "    elif time < datetime(2019, 8, 1):\n",
    "        return 3\n",
    "    else:\n",
    "        return 4\n",
    "\n",
    "\n",
    "df[\"bintime\"] = df[\"time\"].apply(lambda x: bin_time(x))"
   ]
  },
  {
   "cell_type": "code",
   "execution_count": 7,
   "metadata": {},
   "outputs": [
    {
     "data": {
      "text/plain": [
       "datetime.datetime(2017, 12, 1, 0, 0, tzinfo=datetime.timezone.utc)"
      ]
     },
     "execution_count": 7,
     "metadata": {},
     "output_type": "execute_result"
    }
   ],
   "source": [
    "from datetime import timezone\n",
    "datetime(2017, 12, 1, tzinfo=timezone.utc)"
   ]
  },
  {
   "cell_type": "code",
   "execution_count": 8,
   "metadata": {},
   "outputs": [
    {
     "data": {
      "text/plain": [
       "bintime\n",
       "3    1743\n",
       "4    1398\n",
       "2    1359\n",
       "0     239\n",
       "1     227\n",
       "Name: count, dtype: int64"
      ]
     },
     "execution_count": 8,
     "metadata": {},
     "output_type": "execute_result"
    }
   ],
   "source": [
    "df[\"bintime\"].value_counts()"
   ]
  },
  {
   "cell_type": "markdown",
   "metadata": {},
   "source": [
    "Let's clean up the text some more. We will replace linebreaks (\"\\n\") with spaces, remove urls and set everything to lowercase."
   ]
  },
  {
   "cell_type": "code",
   "execution_count": 9,
   "metadata": {},
   "outputs": [],
   "source": [
    "import re\n",
    "\n",
    "\n",
    "def remove_url(text):\n",
    "    return re.sub(r\"^https?:\\/\\/.*[\\r\\n]*\", \"\", text)\n",
    "\n",
    "\n",
    "df[\"text\"] = df[\"text\"].apply(lambda x: str(x).replace(\"\\n\", \" \"))\n",
    "df[\"text\"] = df[\"text\"].apply(lambda x: remove_url(x))\n",
    "df[\"text\"] = df[\"text\"].apply(lambda x: x.lower())"
   ]
  },
  {
   "cell_type": "markdown",
   "metadata": {},
   "source": [
    "Now, we count every text and filter chuncks with size below 50."
   ]
  },
  {
   "cell_type": "code",
   "execution_count": 10,
   "metadata": {},
   "outputs": [],
   "source": [
    "df[\"size\"] = df[\"text\"].apply(lambda x: len(str(x)))\n",
    "df = df[df[\"size\"] > 50]\n",
    "df.reset_index(inplace=True, drop=True)"
   ]
  },
  {
   "cell_type": "markdown",
   "metadata": {},
   "source": [
    "The paper describes batching all the text into chunks of 7500 characters. We can obtain sort of the same by splitting the text up into 100 batches, 7.7k each."
   ]
  },
  {
   "cell_type": "code",
   "execution_count": 11,
   "metadata": {},
   "outputs": [
    {
     "data": {
      "text/plain": [
       "(100, 7734)"
      ]
     },
     "execution_count": 11,
     "metadata": {},
     "output_type": "execute_result"
    }
   ],
   "source": [
    "def batch_seq(text, k):\n",
    "    longseq = \" \".join(text)\n",
    "    n = int(len(longseq) / k)\n",
    "    parts = [longseq[i : i + n] for i in range(0, len(longseq), n)]\n",
    "    return parts, n\n",
    "\n",
    "\n",
    "z = 100\n",
    "parts, n = batch_seq(df[\"text\"], k=z)\n",
    "parts = parts[:-1]\n",
    "len(parts), n"
   ]
  },
  {
   "cell_type": "code",
   "execution_count": 12,
   "metadata": {},
   "outputs": [
    {
     "data": {
      "text/plain": [
       "0        0\n",
       "1        0\n",
       "2        0\n",
       "3        0\n",
       "4        0\n",
       "        ..\n",
       "2261    99\n",
       "2262    99\n",
       "2263    99\n",
       "2264    99\n",
       "2265    99\n",
       "Name: size, Length: 2266, dtype: int64"
      ]
     },
     "execution_count": 12,
     "metadata": {},
     "output_type": "execute_result"
    }
   ],
   "source": [
    "# This gives us groups of 100 posts\n",
    "df[\"size\"].cumsum() // n"
   ]
  },
  {
   "cell_type": "code",
   "execution_count": 13,
   "metadata": {},
   "outputs": [],
   "source": [
    "# Lets store that group in the dataframe\n",
    "df.loc[:, \"group\"] = df[\"size\"].cumsum() // n"
   ]
  },
  {
   "cell_type": "markdown",
   "metadata": {},
   "source": [
    "The paper uses a ngram with size 3 on characterlevel. We can do that with `CountVectorizer`\n",
    "\n",
    "How does this work? We will get a matrix with 100 rows (one for every group) and many columns. What are these columns? This are the trigram-counts. Let's see how this works: for example, if I have the string \"yellow banana\", we get the trigrams: \" y\", \"ye\", \"el\", \"ll\", \"lo\", \"ow\", \"w \", \" b\", \"ba\", \"an\", \"na\", \"an\", \"na\". We can see that the trigram \"an\" appears twice. So, the column \"an\" will have the value 2, the other trigrams have the value 1. "
   ]
  },
  {
   "cell_type": "markdown",
   "metadata": {},
   "source": [
    "👉 Creates a CountVectorizer that:\n",
    "\n",
    "Looks at characters, not words (analyzer=\"char\").\n",
    "\n",
    "Uses 3-character sequences (ngram_range=(3, 3)), called trigrams.\n",
    "\n",
    "Example:\n",
    "Text: \"hello\" → trigrams: \"hel\", \"ell\", \"llo\""
   ]
  },
  {
   "cell_type": "code",
   "execution_count": 14,
   "metadata": {},
   "outputs": [
    {
     "name": "stderr",
     "output_type": "stream",
     "text": [
      "\u001b[32m2025-10-14 17:27:25.430\u001b[0m | \u001b[1mINFO    \u001b[0m | \u001b[36m__main__\u001b[0m:\u001b[36m<module>\u001b[0m:\u001b[36m6\u001b[0m - \u001b[1mThe trigrams are: [' ba' ' pa' 'a b' 'a p' 'age' 'ana' 'apa' 'aya' 'ban' 'ell' 'ena' 'gen'\n",
      " 'llo' 'low' 'na ' 'nan' 'ow ' 'pag' 'pap' 'pay' 'w b' 'ya ' 'yel']\u001b[0m\n",
      "\u001b[32m2025-10-14 17:27:25.432\u001b[0m | \u001b[1mINFO    \u001b[0m | \u001b[36m__main__\u001b[0m:\u001b[36m<module>\u001b[0m:\u001b[36m7\u001b[0m - \u001b[1mShape of the trigram matrix: (2, 23)\u001b[0m\n"
     ]
    },
    {
     "data": {
      "text/plain": [
       "array([[1, 0, 0, 0, 0, 2, 0, 0, 1, 1, 0, 0, 1, 1, 0, 1, 1, 0, 0, 0, 1, 0,\n",
       "        1],\n",
       "       [1, 1, 1, 1, 1, 2, 2, 1, 1, 0, 1, 1, 0, 0, 1, 1, 0, 1, 2, 1, 0, 1,\n",
       "        0]])"
      ]
     },
     "execution_count": 14,
     "metadata": {},
     "output_type": "execute_result"
    }
   ],
   "source": [
    "from sklearn.feature_extraction.text import CountVectorizer\n",
    "\n",
    "example = [\"yellow banana\", \"papagena papaya banana\"]\n",
    "vectorizer = CountVectorizer(analyzer=\"char\", ngram_range=(3, 3))\n",
    "trigram_example = vectorizer.fit_transform(example)\n",
    "logger.info(f\"The trigrams are: {vectorizer.get_feature_names_out()}\")\n",
    "logger.info(f\"Shape of the trigram matrix: {trigram_example.shape}\")\n",
    "trigram_example.toarray()"
   ]
  },
  {
   "cell_type": "markdown",
   "metadata": {},
   "source": [
    "In this example, we see the model counted 23 different trigrams.\n",
    "\n",
    "Now let's proceed to do the same with our text."
   ]
  },
  {
   "cell_type": "code",
   "execution_count": 15,
   "metadata": {},
   "outputs": [
    {
     "data": {
      "text/plain": [
       "(100, 23075)"
      ]
     },
     "execution_count": 15,
     "metadata": {},
     "output_type": "execute_result"
    }
   ],
   "source": [
    "import numpy as np\n",
    "\n",
    "vectorizer = CountVectorizer(analyzer=\"char\", ngram_range=(3, 3))\n",
    "X = vectorizer.fit_transform(parts)\n",
    "X = np.asarray(X.todense())\n",
    "X.shape"
   ]
  },
  {
   "cell_type": "markdown",
   "metadata": {},
   "source": [
    "You can see we found 23074 different trigrams in our text.\n",
    "\n",
    "We can now calculates the pairwise manhattan distances. That way, we get an idea how how different every chunk is, when compared to all other chunks, in terms of the ngrams. If the vectors are similar, the distance is zero, if they are very different, the distance is high.\n",
    "\n",
    "This will give us a 100x100 matrix with the distances, for every vector the distance to all other vectors."
   ]
  },
  {
   "cell_type": "markdown",
   "metadata": {},
   "source": [
    "👉 This compares every text chunk (from X) with every other chunk.\n",
    "\n",
    "X is the matrix of trigram counts (numbers representing each chunk).\n",
    "\n",
    "manhattan_distances(X, X) calculates how far apart each pair of chunks is.\n",
    "\n",
    "This code builds a big table showing how different each text chunk is from every other chunk based on the patterns of letters they use.\n",
    "\n",
    "We want to see which chunks of text are similar and which are different in writing style.\n",
    "Maybe one group of chunks was written by one person, and another group by someone else."
   ]
  },
  {
   "cell_type": "markdown",
   "metadata": {},
   "source": [
    "🧩 Why compare every chunk to every other one?\n",
    "\n",
    "Because we don’t know in advance which chunks belong together — so we need to check all possible pairs.\n",
    "\n",
    "Example:\n",
    "If you have 4 chunks (A, B, C, D),\n",
    "you can compare them like this:\n",
    "\n",
    "| Compare | Meaning                 |\n",
    "|----------|-------------------------|\n",
    "| A vs B  | how similar A and B are |\n",
    "| A vs C  | how similar A and C are |\n",
    "| A vs D  | ...                     |\n",
    "| B vs C  | ...                     |\n",
    "| B vs D  | ...                     |\n",
    "| C vs D  | ...                     |\n"
   ]
  },
  {
   "cell_type": "markdown",
   "metadata": {},
   "source": [
    "What the distance (vector) tells you\n",
    "\n",
    "A small distance = two chunks are very similar (probably same writing style).\n",
    "\n",
    "A large distance = they are different (maybe different author or topic).\n",
    "\n",
    "📊 The result:\n",
    "\n",
    "When you plot or cluster these distances, you can see groups of chunks that are close together — meaning they likely come from the same author or writing pattern.\n",
    "\n",
    "💡 In short:\n",
    "\n",
    "We compare every chunk with every other chunk so we can measure how all parts of the text relate to each other — that’s how we find patterns, clusters, or possible different authors."
   ]
  },
  {
   "cell_type": "code",
   "execution_count": 16,
   "metadata": {},
   "outputs": [
    {
     "data": {
      "text/plain": [
       "((100, 100), numpy.ndarray)"
      ]
     },
     "execution_count": 16,
     "metadata": {},
     "output_type": "execute_result"
    }
   ],
   "source": [
    "from sklearn.metrics.pairwise import manhattan_distances\n",
    "\n",
    "# This compares every text chunk (from X) with every other chunk.\n",
    "distance = manhattan_distances(X, X)\n",
    "distance.shape, type(distance)"
   ]
  },
  {
   "cell_type": "markdown",
   "metadata": {},
   "source": [
    "To handle the labels, we make integers of the labels."
   ]
  },
  {
   "cell_type": "markdown",
   "metadata": {},
   "source": [
    "🧠 What this code does\n",
    "\n",
    "It takes the text source names (like website names) from the data and turns them into numbers — because machine learning models work better with numbers than with text labels."
   ]
  },
  {
   "cell_type": "code",
   "execution_count": 17,
   "metadata": {},
   "outputs": [
    {
     "data": {
      "text/plain": [
       "{0: '4ch', 1: '8ch', 2: '8kun'}"
      ]
     },
     "execution_count": 17,
     "metadata": {},
     "output_type": "execute_result"
    }
   ],
   "source": [
    "labels = df[\"post_metadata_source_site\"].unique()\n",
    "mapping = {labels[i]: i for i in range(3)}\n",
    "df[\"source\"] = df[\"post_metadata_source_site\"].apply(lambda x: mapping[x])\n",
    "source_names = {v: k for k, v in mapping.items()}\n",
    "source_names"
   ]
  },
  {
   "cell_type": "markdown",
   "metadata": {},
   "source": [
    "run PCA on the distance matrix (100×100) producing two principal components for each chunk."
   ]
  },
  {
   "cell_type": "code",
   "execution_count": 18,
   "metadata": {},
   "outputs": [],
   "source": [
    "from sklearn.decomposition import PCA\n",
    "\n",
    "pca = PCA(n_components=2)\n",
    "model = pca.fit_transform(distance)"
   ]
  },
  {
   "cell_type": "code",
   "execution_count": 19,
   "metadata": {},
   "outputs": [
    {
     "data": {
      "text/plain": [
       "<matplotlib.legend.Legend at 0x129a930b0>"
      ]
     },
     "execution_count": 19,
     "metadata": {},
     "output_type": "execute_result"
    },
    {
     "data": {
      "image/png": "[encoded data removed]",
      "text/plain": [
       "<Figure size 640x480 with 1 Axes>"
      ]
     },
     "metadata": {},
     "output_type": "display_data"
    }
   ],
   "source": [
    "import matplotlib.pyplot as plt\n",
    "\n",
    "sourcemean = np.round(df.groupby(\"group\").source.mean()).values.reshape(-1, 1)\n",
    "timemean = np.round(df.groupby(\"group\").bintime.mean()).values.reshape(-1, 1)\n",
    "p = pd.DataFrame(\n",
    "    np.concatenate([model, sourcemean, timemean], axis=1),\n",
    "    columns=[\"x\", \"y\", \"source\", \"time\"],\n",
    ").reset_index()\n",
    "p[\"source\"] = p[\"source\"].map(source_names)\n",
    "sns.scatterplot(data=p, x=\"x\", y=\"y\", hue=\"source\", style=\"source\", palette=\"Set1\")\n",
    "plt.yticks([])\n",
    "plt.xticks([])\n",
    "plt.title(\"QAnon posts show two distinct authors\")\n",
    "plt.legend(title=\"Forum source\")"
   ]
  },
  {
   "cell_type": "markdown",
   "metadata": {},
   "source": [
    "This reproduces the main conclusion, that the red source is not overlapping with the other two sources.\n",
    "\n",
    "Of course, this tells you nothing about how high the chance is, that this is actually caused by having two authors, or by somehow changing the writing style.\n",
    "\n",
    "For that, we would need access to how likely it is that the writing style changes this much.\n",
    "\n",
    "However, we still have reproduced their \"patented technology\" with a few lines of code.\n",
    "Let's wrap it into a class:"
   ]
  },
  {
   "cell_type": "markdown",
   "metadata": {},
   "source": [
    "The scatter plot shows points representing chunks of QAnon posts, colored by which forum they were posted on:\n",
    "\n",
    "🔴 4chan (red circles)\n",
    "\n",
    "🔵 8chan (blue crosses)\n",
    "\n",
    "🟩 8kun (green squares)\n",
    "\n",
    "Each point’s position comes from analyzing writing patterns (character trigrams).\n",
    "The closer two points are, the more similar the writing style.\n",
    "\n",
    "📊 What the plot shows:\n",
    "\n",
    "The red points (4chan) are grouped separately from the blue and green points (8chan & 8kun).\n",
    "\n",
    "This means the writing style of 4chan posts is clearly different from the style of later posts on 8chan/8kun.\n",
    "\n",
    "The 8chan and 8kun posts are mixed together, showing they are similar in style.\n",
    "\n",
    "\n",
    "🧩 Conclusion:\n",
    "\n",
    "The QAnon posts appear to have been written by two different people or writing styles —\n",
    "one responsible for the early 4chan posts, and another for the later 8chan/8kun posts.\n",
    "\n",
    "This matches the finding from the original analysis:\n",
    "👉 There were likely two distinct authors behind the QAnon messages."
   ]
  },
  {
   "cell_type": "code",
   "execution_count": 20,
   "metadata": {},
   "outputs": [
    {
     "name": "stdout",
     "output_type": "stream",
     "text": [
      "['/Library/Frameworks/Python.framework/Versions/3.12/lib/python312.zip', '/Library/Frameworks/Python.framework/Versions/3.12/lib/python3.12', '/Library/Frameworks/Python.framework/Versions/3.12/lib/python3.12/lib-dynload', '', '/Users/luiginocleofa/1_HU_Post_HBO_AI/DAV/MADS-DAV/.venv/lib/python3.12/site-packages', '/Users/luiginocleofa/1_HU_Post_HBO_AI/DAV/MADS-DAV/src']\n",
      "False\n"
     ]
    }
   ],
   "source": [
    "import sys\n",
    "from pathlib import Path\n",
    "\n",
    "print(sys.path)  # check the paths where Python is searching\n",
    "print((Path(\"..\") / \"wa_analyzer\").exists())  # should be True\n"
   ]
  },
  {
   "cell_type": "code",
   "execution_count": 21,
   "metadata": {},
   "outputs": [
    {
     "name": "stderr",
     "output_type": "stream",
     "text": [
      "\u001b[32m2025-10-14 17:27:27.489\u001b[0m | \u001b[1mINFO    \u001b[0m | \u001b[36mwa_analyzer.model\u001b[0m:\u001b[36mbatch_seq\u001b[0m:\u001b[36m26\u001b[0m - \u001b[1mSplitting text into 100 parts of 7734 characters each\u001b[0m\n",
      "\u001b[32m2025-10-14 17:27:27.491\u001b[0m | \u001b[1mINFO    \u001b[0m | \u001b[36mwa_analyzer.model\u001b[0m:\u001b[36mbatch_seq\u001b[0m:\u001b[36m29\u001b[0m - \u001b[1mRemoving 1 parts\u001b[0m\n",
      "\u001b[32m2025-10-14 17:27:28.208\u001b[0m | \u001b[1mINFO    \u001b[0m | \u001b[36mwa_analyzer.model\u001b[0m:\u001b[36mfit\u001b[0m:\u001b[36m35\u001b[0m - \u001b[1mVectorized text into shape (100, 23075)\u001b[0m\n",
      "\u001b[32m2025-10-14 17:27:28.590\u001b[0m | \u001b[1mINFO    \u001b[0m | \u001b[36mwa_analyzer.model\u001b[0m:\u001b[36mreduce_dims\u001b[0m:\u001b[36m42\u001b[0m - \u001b[1mUsing PCA\u001b[0m\n"
     ]
    },
    {
     "data": {
      "image/png": "[encoded data removed]",
      "text/plain": [
       "<Figure size 640x480 with 1 Axes>"
      ]
     },
     "metadata": {},
     "output_type": "display_data"
    }
   ],
   "source": [
    "import sys\n",
    "\n",
    "sys.path.insert(0, \"..\")\n",
    "\n",
    "from wa_analyzer.model import TextClustering\n",
    "\n",
    "clustering = TextClustering()\n",
    "labels = sourcemean.flatten().astype(str)\n",
    "clustering(text=df[\"text\"], k=100, labels=labels, batch=True, method=\"PCA\")"
   ]
  },
  {
   "cell_type": "markdown",
   "metadata": {},
   "source": [
    "And now lets test it on the whatsapp data:"
   ]
  },
  {
   "cell_type": "code",
   "execution_count": 22,
   "metadata": {},
   "outputs": [
    {
     "data": {
      "text/html": [
       "<div>\n",
       "<style scoped>\n",
       "    .dataframe tbody tr th:only-of-type {\n",
       "        vertical-align: middle;\n",
       "    }\n",
       "\n",
       "    .dataframe tbody tr th {\n",
       "        vertical-align: top;\n",
       "    }\n",
       "\n",
       "    .dataframe thead th {\n",
       "        text-align: right;\n",
       "    }\n",
       "</style>\n",
       "<table border=\"1\" class=\"dataframe\">\n",
       "  <thead>\n",
       "    <tr style=\"text-align: right;\">\n",
       "      <th></th>\n",
       "      <th>timestamp</th>\n",
       "      <th>message</th>\n",
       "      <th>author</th>\n",
       "      <th>has_emoji</th>\n",
       "      <th>is_topk</th>\n",
       "      <th>message_length</th>\n",
       "      <th>has_link</th>\n",
       "      <th>timestamp_category</th>\n",
       "      <th>hour</th>\n",
       "      <th>day_of_week</th>\n",
       "      <th>msg_length</th>\n",
       "    </tr>\n",
       "  </thead>\n",
       "  <tbody>\n",
       "    <tr>\n",
       "      <th>0</th>\n",
       "      <td>2023-02-01 19:59:48+00:00</td>\n",
       "      <td>Dank voor bericht, Marijke</td>\n",
       "      <td>kooky-tapir</td>\n",
       "      <td>False</td>\n",
       "      <td>False</td>\n",
       "      <td>26</td>\n",
       "      <td>False</td>\n",
       "      <td>evening</td>\n",
       "      <td>19:59:48</td>\n",
       "      <td>2</td>\n",
       "      <td>26</td>\n",
       "    </tr>\n",
       "    <tr>\n",
       "      <th>1</th>\n",
       "      <td>2023-02-01 20:46:43+00:00</td>\n",
       "      <td>Herman  goede avond, Mag ik de telefoon nummer...</td>\n",
       "      <td>dynamic-frog</td>\n",
       "      <td>False</td>\n",
       "      <td>False</td>\n",
       "      <td>87</td>\n",
       "      <td>False</td>\n",
       "      <td>evening</td>\n",
       "      <td>20:46:43</td>\n",
       "      <td>2</td>\n",
       "      <td>87</td>\n",
       "    </tr>\n",
       "    <tr>\n",
       "      <th>2</th>\n",
       "      <td>2023-02-01 20:52:10+00:00</td>\n",
       "      <td>Voor Ista metertje: 010 2455700</td>\n",
       "      <td>intense-toad</td>\n",
       "      <td>False</td>\n",
       "      <td>True</td>\n",
       "      <td>31</td>\n",
       "      <td>False</td>\n",
       "      <td>evening</td>\n",
       "      <td>20:52:10</td>\n",
       "      <td>2</td>\n",
       "      <td>31</td>\n",
       "    </tr>\n",
       "    <tr>\n",
       "      <th>3</th>\n",
       "      <td>2023-02-01 20:52:45+00:00</td>\n",
       "      <td>Dit gaat dus via Ista, niet via De Combi</td>\n",
       "      <td>intense-toad</td>\n",
       "      <td>False</td>\n",
       "      <td>True</td>\n",
       "      <td>40</td>\n",
       "      <td>False</td>\n",
       "      <td>evening</td>\n",
       "      <td>20:52:45</td>\n",
       "      <td>2</td>\n",
       "      <td>40</td>\n",
       "    </tr>\n",
       "    <tr>\n",
       "      <th>4</th>\n",
       "      <td>2023-02-01 20:55:55+00:00</td>\n",
       "      <td>Bedankt Herman 👍🏽🙏🏽</td>\n",
       "      <td>dynamic-frog</td>\n",
       "      <td>True</td>\n",
       "      <td>False</td>\n",
       "      <td>19</td>\n",
       "      <td>False</td>\n",
       "      <td>evening</td>\n",
       "      <td>20:55:55</td>\n",
       "      <td>2</td>\n",
       "      <td>19</td>\n",
       "    </tr>\n",
       "  </tbody>\n",
       "</table>\n",
       "</div>"
      ],
      "text/plain": [
       "                  timestamp  \\\n",
       "0 2023-02-01 19:59:48+00:00   \n",
       "1 2023-02-01 20:46:43+00:00   \n",
       "2 2023-02-01 20:52:10+00:00   \n",
       "3 2023-02-01 20:52:45+00:00   \n",
       "4 2023-02-01 20:55:55+00:00   \n",
       "\n",
       "                                             message        author  has_emoji  \\\n",
       "0                         Dank voor bericht, Marijke   kooky-tapir      False   \n",
       "1  Herman  goede avond, Mag ik de telefoon nummer...  dynamic-frog      False   \n",
       "2                    Voor Ista metertje: 010 2455700  intense-toad      False   \n",
       "3           Dit gaat dus via Ista, niet via De Combi  intense-toad      False   \n",
       "4                                Bedankt Herman 👍🏽🙏🏽  dynamic-frog       True   \n",
       "\n",
       "   is_topk  message_length  has_link timestamp_category      hour  \\\n",
       "0    False              26     False            evening  19:59:48   \n",
       "1    False              87     False            evening  20:46:43   \n",
       "2     True              31     False            evening  20:52:10   \n",
       "3     True              40     False            evening  20:52:45   \n",
       "4    False              19     False            evening  20:55:55   \n",
       "\n",
       "   day_of_week  msg_length  \n",
       "0            2          26  \n",
       "1            2          87  \n",
       "2            2          31  \n",
       "3            2          40  \n",
       "4            2          19  "
      ]
     },
     "execution_count": 22,
     "metadata": {},
     "output_type": "execute_result"
    }
   ],
   "source": [
    "import tomllib\n",
    "\n",
    "configfile = Path(\"../config.toml\").resolve()\n",
    "with configfile.open(\"rb\") as f:\n",
    "    config = tomllib.load(f)\n",
    "datafile = (Path(\"..\") / Path(config[\"processed\"]) / config[\"current\"]).resolve()\n",
    "if not datafile.exists():\n",
    "    logger.warning(\n",
    "        \"Datafile does not exist. First run src/preprocess.py, and check the timestamp!\"\n",
    "    )\n",
    "wa_df = pd.read_parquet(datafile)\n",
    "wa_df.head()"
   ]
  },
  {
   "cell_type": "markdown",
   "metadata": {},
   "source": [
    "We know the authors, so let's use the labels."
   ]
  },
  {
   "cell_type": "code",
   "execution_count": 23,
   "metadata": {},
   "outputs": [],
   "source": [
    "authors = list(np.unique(wa_df.author))"
   ]
  },
  {
   "cell_type": "markdown",
   "metadata": {},
   "source": [
    "We take a subset of every author, and join their texts.\n",
    "Obviously, you can only do this if you know the authors, or at least the claimed authors. Concatenating all texts together will make the data useless. "
   ]
  },
  {
   "cell_type": "code",
   "execution_count": null,
   "metadata": {},
   "outputs": [
    {
     "data": {
      "text/plain": [
       "dict_keys(['bold-bison', 'bouncy-worm', 'cackling-eland', 'captivating-dove', 'carefree-lark', 'cheerful-boar', 'cheerful-mule', 'chuckling-stork', 'coltish-owl', 'cordial-eel', 'dazzling-curlew', 'dazzling-yak', 'dynamic-frog', 'ebullient-mosquito', 'elaborate-jay', 'entertaining-pig', 'ethereal-lapwing', 'eye-catching-hare', 'eye-catching-okapi', 'flexible-platypus', 'freckled-wolverine', 'funny-swallow', 'goofy-tiger', 'happy-beaver', 'hilarious-dogfish', 'intense-toad', 'joyful-okapi', 'kooky-tapir', 'limber-ostrich', 'loony-albatross', 'lustrous-reindeer', 'mind-blowing-kudu', 'multicolored-dogfish', 'pellucid-quelea', 'peppy-rat', 'piebald-rhinoceros', 'quick-chamois', 'radiant-coyote', 'resplendent-aardwolf', 'rollicking-ostrich', 'saturated-whistling duck', 'silky-lapwing', 'snorting-ibex', 'soft-eland', 'splattered-barracuda', 'springy-hare', 'stippled-pig', 'sudsy-eland', 'sudsy-jellyfish', 'sunny-gazelle', 'upbeat-pigeon', 'vivid-rhinoceros', 'waggish-porcupine', 'wispy-reindeer', 'zany-trout'])"
      ]
     },
     "execution_count": 24,
     "metadata": {},
     "output_type": "execute_result"
    },
    {
     "ename": "",
     "evalue": "",
     "output_type": "error",
     "traceback": [
      "\u001b[1;31mThe Kernel crashed while executing code in the current cell or a previous cell. \n",
      "\u001b[1;31mPlease review the code in the cell(s) to identify a possible cause of the failure. \n",
      "\u001b[1;31mClick <a href='https://aka.ms/vscodeJupyterKernelCrash'>here</a> for more info. \n",
      "\u001b[1;31mView Jupyter <a href='command:jupyter.viewOutput'>log</a> for further details."
     ]
    }
   ],
   "source": [
    "n = 500\n",
    "min_parts = 2\n",
    "\n",
    "corpus = {}\n",
    "for author in authors:\n",
    "    subset = wa_df[wa_df.author == author].reset_index()\n",
    "    longseq = \" \".join(subset.message)\n",
    "    # chunk everything into n-sized parts\n",
    "    parts = [longseq[i : i + n] for i in range(0, len(longseq), n)]\n",
    "    # clean urls\n",
    "    parts = [remove_url(chunk) for chunk in parts]\n",
    "    # remove double spaces\n",
    "    parts = [re.sub(\" +\", \" \", chunk) for chunk in parts]\n",
    "    # keep only parts with more than min_parts\n",
    "    if len(parts) > min_parts:\n",
    "        corpus[author] = parts\n",
    "corpus.keys()"
   ]
  },
  {
   "cell_type": "code",
   "execution_count": null,
   "metadata": {},
   "outputs": [
    {
     "name": "stderr",
     "output_type": "stream",
     "text": [
      "\u001b[32m2025-10-14 17:27:29.862\u001b[0m | \u001b[1mINFO    \u001b[0m | \u001b[36mwa_analyzer.model\u001b[0m:\u001b[36mfit\u001b[0m:\u001b[36m35\u001b[0m - \u001b[1mVectorized text into shape (880, 13675)\u001b[0m\n",
      "\u001b[32m2025-10-14 17:27:42.919\u001b[0m | \u001b[1mINFO    \u001b[0m | \u001b[36mwa_analyzer.model\u001b[0m:\u001b[36mreduce_dims\u001b[0m:\u001b[36m45\u001b[0m - \u001b[1mUsing t-SNE\u001b[0m\n"
     ]
    }
   ],
   "source": [
    "import matplotlib.pyplot as plt\n",
    "\n",
    "text = [part for text in corpus.values() for part in text]\n",
    "wa_labels = [k for k, v in corpus.items() for _ in range(len(v))]\n",
    "# we set batch to false, because we already batched the data\n",
    "clustering(text=text, k=100, labels=wa_labels, batch=False, method=\"tSNE\")\n",
    "plt.legend(title=\"Author\", bbox_to_anchor=(1.05, 1), loc=\"upper left\")\n",
    "plt.xticks([])\n",
    "plt.yticks([])\n",
    "plt.title(\"Distinct authors in the WhatsApp dataset\")"
   ]
  }
 ],
 "metadata": {
  "kernelspec": {
   "display_name": "wa-analyzer (3.12.10)",
   "language": "python",
   "name": "python3"
  },
  "language_info": {
   "codemirror_mode": {
    "name": "ipython",
    "version": 3
   },
   "file_extension": ".py",
   "mimetype": "text/x-python",
   "name": "python",
   "nbconvert_exporter": "python",
   "pygments_lexer": "ipython3",
   "version": "3.12.10"
  }
 },
 "nbformat": 4,
 "nbformat_minor": 2
}
